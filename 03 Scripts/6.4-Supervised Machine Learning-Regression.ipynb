{
 "cells": [
  {
   "cell_type": "markdown",
   "id": "aaad5b2f",
   "metadata": {},
   "source": [
    "## 1. Import libraries and Data"
   ]
  },
  {
   "cell_type": "code",
   "execution_count": 1,
   "id": "229bd881",
   "metadata": {},
   "outputs": [],
   "source": [
    "import pandas as pd\n",
    "import numpy as np\n",
    "import seaborn as sns\n",
    "import matplotlib\n",
    "import matplotlib.pyplot as plt\n",
    "import os\n",
    "import sklearn\n",
    "from sklearn.model_selection import train_test_split \n",
    "from sklearn.linear_model import LinearRegression\n",
    "from sklearn.metrics import mean_squared_error, r2_score"
   ]
  },
  {
   "cell_type": "code",
   "execution_count": 3,
   "id": "33c94e2d",
   "metadata": {},
   "outputs": [],
   "source": [
    "# This option ensures that the graphs you create are displayed within the notebook without the need to \"call\" them specifically.\n",
    "%matplotlib inline"
   ]
  },
  {
   "cell_type": "code",
   "execution_count": 4,
   "id": "04f17d09",
   "metadata": {},
   "outputs": [],
   "source": [
    "path=r'C:\\Users\\Usha Bharati\\Downloads\\Chocolate Bar Ratings'"
   ]
  },
  {
   "cell_type": "code",
   "execution_count": 5,
   "id": "a6da37a2",
   "metadata": {},
   "outputs": [],
   "source": [
    "df_cleaned_1=pd.read_csv(os.path.join(path,'02 Data','Prepared Data','df_cleaned_1.csv'))"
   ]
  },
  {
   "cell_type": "markdown",
   "id": "eaee3df4",
   "metadata": {},
   "source": [
    "## 2. Dataset check - The dataset has been wrangled, cleaned and checked for consistenices in the previous exercise. "
   ]
  },
  {
   "cell_type": "code",
   "execution_count": 8,
   "id": "4a35f57d",
   "metadata": {},
   "outputs": [
    {
     "data": {
      "text/plain": [
       "Index(['Company', 'Chocolate_origin', 'Review_number', 'Review_year',\n",
       "       'Cocoa_percent', 'Company_location', 'Rating', 'Bean_type',\n",
       "       'Bean_origin', 'Cocoa_category', 'Rating_category'],\n",
       "      dtype='object')"
      ]
     },
     "execution_count": 8,
     "metadata": {},
     "output_type": "execute_result"
    }
   ],
   "source": [
    "df_cleaned_1.columns"
   ]
  },
  {
   "cell_type": "code",
   "execution_count": 7,
   "id": "7a5eccf9",
   "metadata": {},
   "outputs": [
    {
     "data": {
      "text/html": [
       "<div>\n",
       "<style scoped>\n",
       "    .dataframe tbody tr th:only-of-type {\n",
       "        vertical-align: middle;\n",
       "    }\n",
       "\n",
       "    .dataframe tbody tr th {\n",
       "        vertical-align: top;\n",
       "    }\n",
       "\n",
       "    .dataframe thead th {\n",
       "        text-align: right;\n",
       "    }\n",
       "</style>\n",
       "<table border=\"1\" class=\"dataframe\">\n",
       "  <thead>\n",
       "    <tr style=\"text-align: right;\">\n",
       "      <th></th>\n",
       "      <th>Company</th>\n",
       "      <th>Chocolate_origin</th>\n",
       "      <th>Review_number</th>\n",
       "      <th>Review_year</th>\n",
       "      <th>Cocoa_percent</th>\n",
       "      <th>Company_location</th>\n",
       "      <th>Rating</th>\n",
       "      <th>Bean_type</th>\n",
       "      <th>Bean_origin</th>\n",
       "      <th>Cocoa_category</th>\n",
       "      <th>Rating_category</th>\n",
       "    </tr>\n",
       "  </thead>\n",
       "  <tbody>\n",
       "    <tr>\n",
       "      <th>0</th>\n",
       "      <td>A. Morin</td>\n",
       "      <td>Agua Grande</td>\n",
       "      <td>1876</td>\n",
       "      <td>2016</td>\n",
       "      <td>63.0</td>\n",
       "      <td>France</td>\n",
       "      <td>3.75</td>\n",
       "      <td>6</td>\n",
       "      <td>Sao Tome</td>\n",
       "      <td>Mild Mocha</td>\n",
       "      <td>Fair</td>\n",
       "    </tr>\n",
       "    <tr>\n",
       "      <th>1</th>\n",
       "      <td>A. Morin</td>\n",
       "      <td>Kpime</td>\n",
       "      <td>1676</td>\n",
       "      <td>2015</td>\n",
       "      <td>70.0</td>\n",
       "      <td>France</td>\n",
       "      <td>2.75</td>\n",
       "      <td>6</td>\n",
       "      <td>Togo</td>\n",
       "      <td>Moderate Blend</td>\n",
       "      <td>Fair</td>\n",
       "    </tr>\n",
       "    <tr>\n",
       "      <th>2</th>\n",
       "      <td>A. Morin</td>\n",
       "      <td>Atsane</td>\n",
       "      <td>1676</td>\n",
       "      <td>2015</td>\n",
       "      <td>70.0</td>\n",
       "      <td>France</td>\n",
       "      <td>3.00</td>\n",
       "      <td>6</td>\n",
       "      <td>Togo</td>\n",
       "      <td>Moderate Blend</td>\n",
       "      <td>Fair</td>\n",
       "    </tr>\n",
       "    <tr>\n",
       "      <th>3</th>\n",
       "      <td>A. Morin</td>\n",
       "      <td>Akata</td>\n",
       "      <td>1680</td>\n",
       "      <td>2015</td>\n",
       "      <td>70.0</td>\n",
       "      <td>France</td>\n",
       "      <td>3.50</td>\n",
       "      <td>6</td>\n",
       "      <td>Togo</td>\n",
       "      <td>Moderate Blend</td>\n",
       "      <td>Fair</td>\n",
       "    </tr>\n",
       "    <tr>\n",
       "      <th>4</th>\n",
       "      <td>A. Morin</td>\n",
       "      <td>Quilla</td>\n",
       "      <td>1704</td>\n",
       "      <td>2015</td>\n",
       "      <td>70.0</td>\n",
       "      <td>France</td>\n",
       "      <td>3.50</td>\n",
       "      <td>6</td>\n",
       "      <td>Peru</td>\n",
       "      <td>Moderate Blend</td>\n",
       "      <td>Fair</td>\n",
       "    </tr>\n",
       "  </tbody>\n",
       "</table>\n",
       "</div>"
      ],
      "text/plain": [
       "    Company Chocolate_origin  Review_number  Review_year  Cocoa_percent  \\\n",
       "0  A. Morin      Agua Grande           1876         2016           63.0   \n",
       "1  A. Morin            Kpime           1676         2015           70.0   \n",
       "2  A. Morin           Atsane           1676         2015           70.0   \n",
       "3  A. Morin            Akata           1680         2015           70.0   \n",
       "4  A. Morin           Quilla           1704         2015           70.0   \n",
       "\n",
       "  Company_location  Rating  Bean_type Bean_origin  Cocoa_category  \\\n",
       "0           France    3.75          6    Sao Tome      Mild Mocha   \n",
       "1           France    2.75          6        Togo  Moderate Blend   \n",
       "2           France    3.00          6        Togo  Moderate Blend   \n",
       "3           France    3.50          6        Togo  Moderate Blend   \n",
       "4           France    3.50          6        Peru  Moderate Blend   \n",
       "\n",
       "  Rating_category  \n",
       "0            Fair  \n",
       "1            Fair  \n",
       "2            Fair  \n",
       "3            Fair  \n",
       "4            Fair  "
      ]
     },
     "execution_count": 7,
     "metadata": {},
     "output_type": "execute_result"
    }
   ],
   "source": [
    "df_cleaned_1.head()"
   ]
  },
  {
   "cell_type": "code",
   "execution_count": 35,
   "id": "4b9361aa",
   "metadata": {},
   "outputs": [
    {
     "data": {
      "text/plain": [
       "Company             0\n",
       "Chocolate_origin    0\n",
       "Review_number       0\n",
       "Review_year         0\n",
       "Cocoa_percent       0\n",
       "Company_location    0\n",
       "Rating              0\n",
       "Bean_type           0\n",
       "Bean_origin         1\n",
       "Cocoa_category      0\n",
       "Rating_category     0\n",
       "dtype: int64"
      ]
     },
     "execution_count": 35,
     "metadata": {},
     "output_type": "execute_result"
    }
   ],
   "source": [
    "df_cleaned_1.isnull().sum()"
   ]
  },
  {
   "cell_type": "markdown",
   "id": "1c292a0e",
   "metadata": {},
   "source": [
    "#### One missing value in bean origin, but no action required at this stage for this column as it is just one single value."
   ]
  },
  {
   "cell_type": "code",
   "execution_count": 36,
   "id": "f37ab5cb",
   "metadata": {},
   "outputs": [],
   "source": [
    "dups=df_cleaned_1.duplicated()"
   ]
  },
  {
   "cell_type": "code",
   "execution_count": 37,
   "id": "b15cdf69",
   "metadata": {},
   "outputs": [
    {
     "data": {
      "text/plain": [
       "(1795,)"
      ]
     },
     "execution_count": 37,
     "metadata": {},
     "output_type": "execute_result"
    }
   ],
   "source": [
    "dups.shape"
   ]
  },
  {
   "cell_type": "markdown",
   "id": "17359870",
   "metadata": {},
   "source": [
    "### No duplicates found."
   ]
  },
  {
   "cell_type": "markdown",
   "id": "70f0484c",
   "metadata": {},
   "source": [
    "### Extreme values check"
   ]
  },
  {
   "cell_type": "code",
   "execution_count": 38,
   "id": "029d8fb1",
   "metadata": {},
   "outputs": [
    {
     "name": "stderr",
     "output_type": "stream",
     "text": [
      "C:\\Users\\Usha Bharati\\AppData\\Local\\Temp\\ipykernel_12192\\2015468501.py:1: UserWarning: \n",
      "\n",
      "`distplot` is a deprecated function and will be removed in seaborn v0.14.0.\n",
      "\n",
      "Please adapt your code to use either `displot` (a figure-level function with\n",
      "similar flexibility) or `histplot` (an axes-level function for histograms).\n",
      "\n",
      "For a guide to updating your code to use the new functions, please see\n",
      "https://gist.github.com/mwaskom/de44147ed2974457ad6372750bbe5751\n",
      "\n",
      "  sns.distplot(df_cleaned_1['Rating'],bins=25)\n",
      "C:\\Users\\Usha Bharati\\anaconda3\\Lib\\site-packages\\seaborn\\_oldcore.py:1119: FutureWarning: use_inf_as_na option is deprecated and will be removed in a future version. Convert inf values to NaN before operating instead.\n",
      "  with pd.option_context('mode.use_inf_as_na', True):\n"
     ]
    },
    {
     "data": {
      "text/plain": [
       "<Axes: xlabel='Rating', ylabel='Density'>"
      ]
     },
     "execution_count": 38,
     "metadata": {},
     "output_type": "execute_result"
    },
    {
     "data": {
      "image/png": "[encoded data removed]",
      "text/plain": [
       "<Figure size 640x480 with 1 Axes>"
      ]
     },
     "metadata": {},
     "output_type": "display_data"
    }
   ],
   "source": [
    "sns.distplot(df_cleaned_1['Rating'],bins=25)"
   ]
  },
  {
   "cell_type": "markdown",
   "id": "d0be0e65",
   "metadata": {},
   "source": [
    "### No extreme values observed above."
   ]
  },
  {
   "cell_type": "code",
   "execution_count": 40,
   "id": "69da2ef2",
   "metadata": {},
   "outputs": [
    {
     "name": "stderr",
     "output_type": "stream",
     "text": [
      "C:\\Users\\Usha Bharati\\AppData\\Local\\Temp\\ipykernel_12192\\2342236563.py:1: UserWarning: \n",
      "\n",
      "`distplot` is a deprecated function and will be removed in seaborn v0.14.0.\n",
      "\n",
      "Please adapt your code to use either `displot` (a figure-level function with\n",
      "similar flexibility) or `histplot` (an axes-level function for histograms).\n",
      "\n",
      "For a guide to updating your code to use the new functions, please see\n",
      "https://gist.github.com/mwaskom/de44147ed2974457ad6372750bbe5751\n",
      "\n",
      "  sns.distplot(df_cleaned_1['Cocoa_percent'],bins=25)\n",
      "C:\\Users\\Usha Bharati\\anaconda3\\Lib\\site-packages\\seaborn\\_oldcore.py:1119: FutureWarning: use_inf_as_na option is deprecated and will be removed in a future version. Convert inf values to NaN before operating instead.\n",
      "  with pd.option_context('mode.use_inf_as_na', True):\n"
     ]
    },
    {
     "data": {
      "text/plain": [
       "<Axes: xlabel='Cocoa_percent', ylabel='Density'>"
      ]
     },
     "execution_count": 40,
     "metadata": {},
     "output_type": "execute_result"
    },
    {
     "data": {
      "image/png": "[encoded data removed]",
      "text/plain": [
       "<Figure size 640x480 with 1 Axes>"
      ]
     },
     "metadata": {},
     "output_type": "display_data"
    }
   ],
   "source": [
    "sns.distplot(df_cleaned_1['Cocoa_percent'],bins=25)"
   ]
  },
  {
   "cell_type": "markdown",
   "id": "607582a3",
   "metadata": {},
   "source": [
    "###  Most of the chocolate bars are found in the range of 70%"
   ]
  },
  {
   "cell_type": "code",
   "execution_count": 44,
   "id": "56d5e333",
   "metadata": {},
   "outputs": [
    {
     "data": {
      "text/plain": [
       "mean      3.185933\n",
       "median    3.250000\n",
       "max       5.000000\n",
       "Name: Rating, dtype: float64"
      ]
     },
     "execution_count": 44,
     "metadata": {},
     "output_type": "execute_result"
    }
   ],
   "source": [
    "df_cleaned_1['Rating'].agg(['mean', 'median', 'max'])"
   ]
  },
  {
   "cell_type": "code",
   "execution_count": 43,
   "id": "cbffd084",
   "metadata": {},
   "outputs": [
    {
     "data": {
      "text/plain": [
       "mean       71.698329\n",
       "median     70.000000\n",
       "max       100.000000\n",
       "Name: Cocoa_percent, dtype: float64"
      ]
     },
     "execution_count": 43,
     "metadata": {},
     "output_type": "execute_result"
    }
   ],
   "source": [
    "df_cleaned_1['Cocoa_percent'].agg(['mean', 'median', 'max'])"
   ]
  },
  {
   "cell_type": "markdown",
   "id": "682b55dd",
   "metadata": {},
   "source": [
    "## HYPOTHESIS"
   ]
  },
  {
   "cell_type": "markdown",
   "id": "749cc686",
   "metadata": {},
   "source": [
    "###  In earlier analysis it is observed that as the cocoa percentage increases, the rating tends to decrease. This could imply that higher cocoa percentages might not be as palatable to all consumers, resulting in lower ratings on average. Also, there is a moderate negative correlation (-0.16) between cocoa percentage and rating.\n",
    "### So, my hypothesis is that Chocolate bars with moderate and mild level of cocoa percentage have highest ratings.\n",
    "\n",
    "### Chocolate bars are categorized as follows- \n",
    "### 'Mild mocha' contains <70%, 'Moderate blend' contains 70% to 80%,'Deep dark' contains above 80% of cocoa."
   ]
  },
  {
   "cell_type": "markdown",
   "id": "3eb638ff",
   "metadata": {},
   "source": [
    "## 3.Data Prep for regression analysis"
   ]
  },
  {
   "cell_type": "code",
   "execution_count": 14,
   "id": "9ac493b3",
   "metadata": {},
   "outputs": [
    {
     "data": {
      "image/png": "[encoded data removed]",
      "text/plain": [
       "<Figure size 640x480 with 1 Axes>"
      ]
     },
     "metadata": {},
     "output_type": "display_data"
    }
   ],
   "source": [
    "# Create a scatterplot using matplotlib for another look at how the chosen variables plot against each other.\n",
    "\n",
    "df_cleaned_1.plot(x = 'Cocoa_percent', y='Rating',style='o') # The style option creates a scatterplot; without it, we only have lines.\n",
    "plt.title('Cocoa_percent vs Rating')  \n",
    "plt.xlabel('Cocoa_percent')  \n",
    "plt.ylabel('Rating')  \n",
    "plt.show()"
   ]
  },
  {
   "cell_type": "code",
   "execution_count": 16,
   "id": "98606d76",
   "metadata": {},
   "outputs": [],
   "source": [
    "# Reshape the variables into NumPy arrays and put them into separate objects.\n",
    "\n",
    "X = df_cleaned_1['Cocoa_percent'].values.reshape(-1,1)\n",
    "y = df_cleaned_1['Rating'].values.reshape(-1,1)"
   ]
  },
  {
   "cell_type": "code",
   "execution_count": 17,
   "id": "0ecaf8e2",
   "metadata": {},
   "outputs": [
    {
     "data": {
      "text/plain": [
       "array([[63.],\n",
       "       [70.],\n",
       "       [70.],\n",
       "       ...,\n",
       "       [65.],\n",
       "       [62.],\n",
       "       [65.]])"
      ]
     },
     "execution_count": 17,
     "metadata": {},
     "output_type": "execute_result"
    }
   ],
   "source": [
    "X"
   ]
  },
  {
   "cell_type": "code",
   "execution_count": 18,
   "id": "e36071d6",
   "metadata": {},
   "outputs": [
    {
     "data": {
      "text/plain": [
       "array([[3.75],\n",
       "       [2.75],\n",
       "       [3.  ],\n",
       "       ...,\n",
       "       [3.5 ],\n",
       "       [3.25],\n",
       "       [3.  ]])"
      ]
     },
     "execution_count": 18,
     "metadata": {},
     "output_type": "execute_result"
    }
   ],
   "source": [
    "y"
   ]
  },
  {
   "cell_type": "code",
   "execution_count": 19,
   "id": "8913c0c9",
   "metadata": {},
   "outputs": [],
   "source": [
    "# Split data into a training set and a test set.\n",
    "\n",
    "X_train, X_test, y_train, y_test = train_test_split(X, y, test_size=0.3, random_state=0)"
   ]
  },
  {
   "cell_type": "markdown",
   "id": "c5c4f9c0",
   "metadata": {},
   "source": [
    "## 4.Regression Analysis"
   ]
  },
  {
   "cell_type": "code",
   "execution_count": 20,
   "id": "d8b44f50",
   "metadata": {},
   "outputs": [],
   "source": [
    "# Create a regression object.\n",
    "\n",
    "regression = LinearRegression()  "
   ]
  },
  {
   "cell_type": "code",
   "execution_count": 21,
   "id": "4639a1ff",
   "metadata": {},
   "outputs": [
    {
     "data": {
      "text/html": [
       "<style>#sk-container-id-1 {color: black;}#sk-container-id-1 pre{padding: 0;}#sk-container-id-1 div.sk-toggleable {background-color: white;}#sk-container-id-1 label.sk-toggleable__label {cursor: pointer;display: block;width: 100%;margin-bottom: 0;padding: 0.3em;box-sizing: border-box;text-align: center;}#sk-container-id-1 label.sk-toggleable__label-arrow:before {content: \"▸\";float: left;margin-right: 0.25em;color: #696969;}#sk-container-id-1 label.sk-toggleable__label-arrow:hover:before {color: black;}#sk-container-id-1 div.sk-estimator:hover label.sk-toggleable__label-arrow:before {color: black;}#sk-container-id-1 div.sk-toggleable__content {max-height: 0;max-width: 0;overflow: hidden;text-align: left;background-color: #f0f8ff;}#sk-container-id-1 div.sk-toggleable__content pre {margin: 0.2em;color: black;border-radius: 0.25em;background-color: #f0f8ff;}#sk-container-id-1 input.sk-toggleable__control:checked~div.sk-toggleable__content {max-height: 200px;max-width: 100%;overflow: auto;}#sk-container-id-1 input.sk-toggleable__control:checked~label.sk-toggleable__label-arrow:before {content: \"▾\";}#sk-container-id-1 div.sk-estimator input.sk-toggleable__control:checked~label.sk-toggleable__label {background-color: #d4ebff;}#sk-container-id-1 div.sk-label input.sk-toggleable__control:checked~label.sk-toggleable__label {background-color: #d4ebff;}#sk-container-id-1 input.sk-hidden--visually {border: 0;clip: rect(1px 1px 1px 1px);clip: rect(1px, 1px, 1px, 1px);height: 1px;margin: -1px;overflow: hidden;padding: 0;position: absolute;width: 1px;}#sk-container-id-1 div.sk-estimator {font-family: monospace;background-color: #f0f8ff;border: 1px dotted black;border-radius: 0.25em;box-sizing: border-box;margin-bottom: 0.5em;}#sk-container-id-1 div.sk-estimator:hover {background-color: #d4ebff;}#sk-container-id-1 div.sk-parallel-item::after {content: \"\";width: 100%;border-bottom: 1px solid gray;flex-grow: 1;}#sk-container-id-1 div.sk-label:hover label.sk-toggleable__label {background-color: #d4ebff;}#sk-container-id-1 div.sk-serial::before {content: \"\";position: absolute;border-left: 1px solid gray;box-sizing: border-box;top: 0;bottom: 0;left: 50%;z-index: 0;}#sk-container-id-1 div.sk-serial {display: flex;flex-direction: column;align-items: center;background-color: white;padding-right: 0.2em;padding-left: 0.2em;position: relative;}#sk-container-id-1 div.sk-item {position: relative;z-index: 1;}#sk-container-id-1 div.sk-parallel {display: flex;align-items: stretch;justify-content: center;background-color: white;position: relative;}#sk-container-id-1 div.sk-item::before, #sk-container-id-1 div.sk-parallel-item::before {content: \"\";position: absolute;border-left: 1px solid gray;box-sizing: border-box;top: 0;bottom: 0;left: 50%;z-index: -1;}#sk-container-id-1 div.sk-parallel-item {display: flex;flex-direction: column;z-index: 1;position: relative;background-color: white;}#sk-container-id-1 div.sk-parallel-item:first-child::after {align-self: flex-end;width: 50%;}#sk-container-id-1 div.sk-parallel-item:last-child::after {align-self: flex-start;width: 50%;}#sk-container-id-1 div.sk-parallel-item:only-child::after {width: 0;}#sk-container-id-1 div.sk-dashed-wrapped {border: 1px dashed gray;margin: 0 0.4em 0.5em 0.4em;box-sizing: border-box;padding-bottom: 0.4em;background-color: white;}#sk-container-id-1 div.sk-label label {font-family: monospace;font-weight: bold;display: inline-block;line-height: 1.2em;}#sk-container-id-1 div.sk-label-container {text-align: center;}#sk-container-id-1 div.sk-container {/* jupyter's `normalize.less` sets `[hidden] { display: none; }` but bootstrap.min.css set `[hidden] { display: none !important; }` so we also need the `!important` here to be able to override the default hidden behavior on the sphinx rendered scikit-learn.org. See: https://github.com/scikit-learn/scikit-learn/issues/21755 */display: inline-block !important;position: relative;}#sk-container-id-1 div.sk-text-repr-fallback {display: none;}</style><div id=\"sk-container-id-1\" class=\"sk-top-container\"><div class=\"sk-text-repr-fallback\"><pre>LinearRegression()</pre><b>In a Jupyter environment, please rerun this cell to show the HTML representation or trust the notebook. <br />On GitHub, the HTML representation is unable to render, please try loading this page with nbviewer.org.</b></div><div class=\"sk-container\" hidden><div class=\"sk-item\"><div class=\"sk-estimator sk-toggleable\"><input class=\"sk-toggleable__control sk-hidden--visually\" id=\"sk-estimator-id-1\" type=\"checkbox\" checked><label for=\"sk-estimator-id-1\" class=\"sk-toggleable__label sk-toggleable__label-arrow\">LinearRegression</label><div class=\"sk-toggleable__content\"><pre>LinearRegression()</pre></div></div></div></div></div>"
      ],
      "text/plain": [
       "LinearRegression()"
      ]
     },
     "execution_count": 21,
     "metadata": {},
     "output_type": "execute_result"
    }
   ],
   "source": [
    "# Fit the regression object onto the training set.\n",
    "\n",
    "regression.fit(X_train, y_train)"
   ]
  },
  {
   "cell_type": "code",
   "execution_count": 22,
   "id": "b28a2d48",
   "metadata": {},
   "outputs": [],
   "source": [
    "y_predicted = regression.predict(X_test)"
   ]
  },
  {
   "cell_type": "code",
   "execution_count": 23,
   "id": "d2d7c978",
   "metadata": {},
   "outputs": [
    {
     "data": {
      "image/png": "[encoded data removed]",
      "text/plain": [
       "<Figure size 640x480 with 1 Axes>"
      ]
     },
     "metadata": {},
     "output_type": "display_data"
    }
   ],
   "source": [
    "# Create a plot that shows the regression line from the model on the test set.\n",
    "\n",
    "plot_test = plt\n",
    "plot_test.scatter(X_test, y_test, color='gray', s = 15)\n",
    "plot_test.plot(X_test, y_predicted, color='red', linewidth =3)\n",
    "plot_test.title('Cocoa_percent vs Rating (Test set)')\n",
    "plot_test.xlabel('Cocoa_percent')\n",
    "plot_test.ylabel('Rating')\n",
    "plot_test.show()"
   ]
  },
  {
   "cell_type": "code",
   "execution_count": 24,
   "id": "bd9ca02f",
   "metadata": {},
   "outputs": [],
   "source": [
    "# Create objects that contain the model summary statistics.\n",
    "\n",
    "rmse = mean_squared_error(y_test, y_predicted) # This is the mean squared error\n",
    "r2 = r2_score(y_test, y_predicted) # This is the R2 score."
   ]
  },
  {
   "cell_type": "code",
   "execution_count": 25,
   "id": "c70c1032",
   "metadata": {},
   "outputs": [
    {
     "name": "stdout",
     "output_type": "stream",
     "text": [
      "Slope: [[-0.01313255]]\n",
      "Mean squared error:  0.2095351310152622\n",
      "R2 score:  0.01811002046167476\n"
     ]
    }
   ],
   "source": [
    "# Print the model summary statistics. This is where you evaluate the performance of the model.\n",
    "\n",
    "print('Slope:' ,regression.coef_)\n",
    "print('Mean squared error: ', rmse)\n",
    "print('R2 score: ', r2)"
   ]
  },
  {
   "cell_type": "markdown",
   "id": "7f508d86",
   "metadata": {},
   "source": [
    "#### 1. The negative slope suggests that there's a decrease in the rating as the cocoa percentage increases. However, the magnitude of the slope indicates that the relationship is relatively weak.\n",
    "#### 2. MSE is a small number here but lookibg at R2 score that is 0.0181, which means that approximately 1.81% of the variance in ratings can be explained by cocoa percentage according to this model. This suggests that cocoa percentage alone may not be a strong predictor of ratings, as the model explains only a small portion of the variability in ratings. "
   ]
  },
  {
   "cell_type": "code",
   "execution_count": 26,
   "id": "c95bfc10",
   "metadata": {},
   "outputs": [
    {
     "data": {
      "text/plain": [
       "array([[3.13545711],\n",
       "       [3.17485476],\n",
       "       [3.20111986],\n",
       "       [3.20111986],\n",
       "       [3.06979435],\n",
       "       [3.39810813],\n",
       "       [3.20111986],\n",
       "       [3.13545711],\n",
       "       [3.25365007],\n",
       "       [3.26678262],\n",
       "       [3.27991517],\n",
       "       [3.20111986],\n",
       "       [3.26678262],\n",
       "       [3.20111986],\n",
       "       [3.13545711],\n",
       "       [3.06979435],\n",
       "       [3.0041316 ],\n",
       "       [3.17485476],\n",
       "       [3.20111986],\n",
       "       [3.20111986],\n",
       "       [3.20111986],\n",
       "       [3.16172221],\n",
       "       [3.39810813],\n",
       "       [2.80714333],\n",
       "       [3.33244537],\n",
       "       [3.13545711],\n",
       "       [3.13545711],\n",
       "       [3.22738497],\n",
       "       [3.20111986],\n",
       "       [3.22738497],\n",
       "       [3.17485476],\n",
       "       [3.20111986],\n",
       "       [3.20111986],\n",
       "       [3.20111986],\n",
       "       [3.13545711],\n",
       "       [3.20111986],\n",
       "       [3.17485476],\n",
       "       [3.27991517],\n",
       "       [3.17485476],\n",
       "       [3.20111986],\n",
       "       [3.13545711],\n",
       "       [3.26678262],\n",
       "       [3.20111986],\n",
       "       [3.39810813],\n",
       "       [3.20111986],\n",
       "       [3.33244537],\n",
       "       [3.10919201],\n",
       "       [3.13545711],\n",
       "       [3.20111986],\n",
       "       [3.20111986],\n",
       "       [3.20111986],\n",
       "       [3.13545711],\n",
       "       [3.16172221],\n",
       "       [3.30618027],\n",
       "       [3.17485476],\n",
       "       [3.20111986],\n",
       "       [3.17485476],\n",
       "       [3.17485476],\n",
       "       [3.18798731],\n",
       "       [3.0303967 ],\n",
       "       [3.20111986],\n",
       "       [3.13545711],\n",
       "       [3.0829269 ],\n",
       "       [3.17485476],\n",
       "       [3.20111986],\n",
       "       [3.20111986],\n",
       "       [3.13545711],\n",
       "       [3.10919201],\n",
       "       [3.22738497],\n",
       "       [3.20111986],\n",
       "       [3.0041316 ],\n",
       "       [3.22738497],\n",
       "       [3.14858966],\n",
       "       [3.20111986],\n",
       "       [3.16172221],\n",
       "       [2.80714333],\n",
       "       [3.20111986],\n",
       "       [3.35871048],\n",
       "       [3.20111986],\n",
       "       [3.13545711],\n",
       "       [3.20111986],\n",
       "       [3.0041316 ],\n",
       "       [3.13545711],\n",
       "       [3.20111986],\n",
       "       [3.20111986],\n",
       "       [3.20111986],\n",
       "       [3.17485476],\n",
       "       [3.17485476],\n",
       "       [3.20111986],\n",
       "       [3.33244537],\n",
       "       [3.12232456],\n",
       "       [3.20111986],\n",
       "       [3.26678262],\n",
       "       [3.33244537],\n",
       "       [3.12232456],\n",
       "       [3.20111986],\n",
       "       [3.20111986],\n",
       "       [3.33244537],\n",
       "       [3.20111986],\n",
       "       [3.0566618 ],\n",
       "       [3.17485476],\n",
       "       [3.16172221],\n",
       "       [3.20111986],\n",
       "       [3.17485476],\n",
       "       [3.13545711],\n",
       "       [3.0041316 ],\n",
       "       [3.0303967 ],\n",
       "       [3.20111986],\n",
       "       [3.12232456],\n",
       "       [3.20111986],\n",
       "       [3.13545711],\n",
       "       [3.20111986],\n",
       "       [3.20111986],\n",
       "       [3.20111986],\n",
       "       [3.20111986],\n",
       "       [3.17485476],\n",
       "       [3.20111986],\n",
       "       [3.20111986],\n",
       "       [3.20111986],\n",
       "       [3.16172221],\n",
       "       [3.26678262],\n",
       "       [3.17485476],\n",
       "       [3.20111986],\n",
       "       [3.20111986],\n",
       "       [3.17485476],\n",
       "       [3.20111986],\n",
       "       [3.06979435],\n",
       "       [3.20111986],\n",
       "       [3.14858966],\n",
       "       [3.20111986],\n",
       "       [3.13545711],\n",
       "       [3.17485476],\n",
       "       [3.13545711],\n",
       "       [3.17485476],\n",
       "       [3.13545711],\n",
       "       [3.20111986],\n",
       "       [3.06979435],\n",
       "       [3.17485476],\n",
       "       [3.33244537],\n",
       "       [3.13545711],\n",
       "       [3.20111986],\n",
       "       [3.17485476],\n",
       "       [3.20111986],\n",
       "       [3.20111986],\n",
       "       [3.20111986],\n",
       "       [3.10919201],\n",
       "       [3.20111986],\n",
       "       [3.20111986],\n",
       "       [3.14858966],\n",
       "       [3.17485476],\n",
       "       [3.20111986],\n",
       "       [3.20111986],\n",
       "       [3.20111986],\n",
       "       [3.20111986],\n",
       "       [3.20111986],\n",
       "       [3.21425241],\n",
       "       [3.18798731],\n",
       "       [3.13545711],\n",
       "       [3.10919201],\n",
       "       [3.27991517],\n",
       "       [3.13545711],\n",
       "       [2.80714333],\n",
       "       [3.13545711],\n",
       "       [3.06979435],\n",
       "       [3.20111986],\n",
       "       [3.20111986],\n",
       "       [3.20111986],\n",
       "       [3.20111986],\n",
       "       [3.13545711],\n",
       "       [3.39810813],\n",
       "       [3.14858966],\n",
       "       [3.20111986],\n",
       "       [2.80714333],\n",
       "       [3.25365007],\n",
       "       [3.13545711],\n",
       "       [3.17485476],\n",
       "       [3.17485476],\n",
       "       [3.22738497],\n",
       "       [3.17485476],\n",
       "       [3.20111986],\n",
       "       [3.26678262],\n",
       "       [3.20111986],\n",
       "       [3.20111986],\n",
       "       [3.14858966],\n",
       "       [3.13545711],\n",
       "       [3.20111986],\n",
       "       [3.16172221],\n",
       "       [3.17485476],\n",
       "       [3.17485476],\n",
       "       [3.14858966],\n",
       "       [3.26678262],\n",
       "       [3.17485476],\n",
       "       [3.20111986],\n",
       "       [3.18798731],\n",
       "       [3.13545711],\n",
       "       [3.20111986],\n",
       "       [3.13545711],\n",
       "       [3.13545711],\n",
       "       [3.26678262],\n",
       "       [3.20111986],\n",
       "       [3.17485476],\n",
       "       [3.16172221],\n",
       "       [3.20111986],\n",
       "       [3.26678262],\n",
       "       [3.20111986],\n",
       "       [3.06979435],\n",
       "       [3.17485476],\n",
       "       [3.27991517],\n",
       "       [3.06979435],\n",
       "       [3.16172221],\n",
       "       [3.20111986],\n",
       "       [3.20111986],\n",
       "       [3.10919201],\n",
       "       [3.17485476],\n",
       "       [3.14858966],\n",
       "       [3.20111986],\n",
       "       [3.20111986],\n",
       "       [3.13545711],\n",
       "       [3.17485476],\n",
       "       [3.20111986],\n",
       "       [3.20111986],\n",
       "       [3.20111986],\n",
       "       [3.20111986],\n",
       "       [3.20111986],\n",
       "       [3.13545711],\n",
       "       [3.20111986],\n",
       "       [3.22738497],\n",
       "       [3.0041316 ],\n",
       "       [3.13545711],\n",
       "       [3.20111986],\n",
       "       [3.20111986],\n",
       "       [3.06979435],\n",
       "       [3.10919201],\n",
       "       [3.17485476],\n",
       "       [3.20111986],\n",
       "       [3.0041316 ],\n",
       "       [3.0041316 ],\n",
       "       [3.13545711],\n",
       "       [3.16172221],\n",
       "       [3.0041316 ],\n",
       "       [3.29304772],\n",
       "       [3.17485476],\n",
       "       [3.33244537],\n",
       "       [3.22738497],\n",
       "       [3.20111986],\n",
       "       [3.27991517],\n",
       "       [3.17485476],\n",
       "       [3.20111986],\n",
       "       [3.27991517],\n",
       "       [3.20111986],\n",
       "       [3.13545711],\n",
       "       [3.17485476],\n",
       "       [3.20111986],\n",
       "       [3.33244537],\n",
       "       [3.20111986],\n",
       "       [3.20111986],\n",
       "       [3.20111986],\n",
       "       [3.22738497],\n",
       "       [3.33244537],\n",
       "       [3.17485476],\n",
       "       [3.26678262],\n",
       "       [3.20111986],\n",
       "       [3.13545711],\n",
       "       [3.01726415],\n",
       "       [3.20111986],\n",
       "       [3.25365007],\n",
       "       [3.22738497],\n",
       "       [3.17485476],\n",
       "       [3.13545711],\n",
       "       [3.13545711],\n",
       "       [3.20111986],\n",
       "       [3.26678262],\n",
       "       [3.17485476],\n",
       "       [3.20111986],\n",
       "       [3.20111986],\n",
       "       [3.13545711],\n",
       "       [3.25365007],\n",
       "       [3.20111986],\n",
       "       [3.20111986],\n",
       "       [3.30618027],\n",
       "       [3.20111986],\n",
       "       [3.20111986],\n",
       "       [3.17485476],\n",
       "       [3.13545711],\n",
       "       [3.16172221],\n",
       "       [3.20111986],\n",
       "       [3.22738497],\n",
       "       [3.20111986],\n",
       "       [3.18798731],\n",
       "       [3.17485476],\n",
       "       [3.09605946],\n",
       "       [3.16172221],\n",
       "       [3.20111986],\n",
       "       [3.26678262],\n",
       "       [3.20111986],\n",
       "       [3.20111986],\n",
       "       [3.20111986],\n",
       "       [3.13545711],\n",
       "       [3.13545711],\n",
       "       [3.17485476],\n",
       "       [3.22738497],\n",
       "       [3.20111986],\n",
       "       [3.06979435],\n",
       "       [3.17485476],\n",
       "       [3.14858966],\n",
       "       [3.20111986],\n",
       "       [3.26678262],\n",
       "       [3.20111986],\n",
       "       [3.26678262],\n",
       "       [3.13545711],\n",
       "       [3.13545711],\n",
       "       [3.33244537],\n",
       "       [3.22738497],\n",
       "       [3.24051752],\n",
       "       [3.20111986],\n",
       "       [3.27991517],\n",
       "       [3.20111986],\n",
       "       [3.20111986],\n",
       "       [3.13545711],\n",
       "       [3.20111986],\n",
       "       [3.0041316 ],\n",
       "       [3.20111986],\n",
       "       [3.13545711],\n",
       "       [3.16172221],\n",
       "       [3.12232456],\n",
       "       [3.14858966],\n",
       "       [3.13545711],\n",
       "       [3.13545711],\n",
       "       [3.15515593],\n",
       "       [3.13545711],\n",
       "       [3.14858966],\n",
       "       [3.20111986],\n",
       "       [3.20111986],\n",
       "       [3.06979435],\n",
       "       [3.06979435],\n",
       "       [3.31931282],\n",
       "       [3.20111986],\n",
       "       [3.13545711],\n",
       "       [2.92533629],\n",
       "       [3.17485476],\n",
       "       [3.20111986],\n",
       "       [3.17485476],\n",
       "       [3.20111986],\n",
       "       [3.20111986],\n",
       "       [3.0041316 ],\n",
       "       [3.22738497],\n",
       "       [3.29304772],\n",
       "       [3.17485476],\n",
       "       [3.13545711],\n",
       "       [3.20111986],\n",
       "       [3.04352925],\n",
       "       [3.09605946],\n",
       "       [3.17485476],\n",
       "       [3.20111986],\n",
       "       [3.30618027],\n",
       "       [3.33244537],\n",
       "       [2.80714333],\n",
       "       [3.10919201],\n",
       "       [3.06979435],\n",
       "       [3.13545711],\n",
       "       [3.20111986],\n",
       "       [3.17485476],\n",
       "       [3.12232456],\n",
       "       [3.0041316 ],\n",
       "       [3.20111986],\n",
       "       [3.20111986],\n",
       "       [3.13545711],\n",
       "       [3.20111986],\n",
       "       [3.20111986],\n",
       "       [3.20111986],\n",
       "       [3.20111986],\n",
       "       [3.17485476],\n",
       "       [3.20111986],\n",
       "       [3.20111986],\n",
       "       [3.20111986],\n",
       "       [3.27991517],\n",
       "       [3.20111986],\n",
       "       [3.17485476],\n",
       "       [3.10919201],\n",
       "       [3.24051752],\n",
       "       [3.24051752],\n",
       "       [3.20111986],\n",
       "       [3.06979435],\n",
       "       [3.26678262],\n",
       "       [3.13545711],\n",
       "       [3.26678262],\n",
       "       [3.20111986],\n",
       "       [3.09605946],\n",
       "       [3.39810813],\n",
       "       [3.20111986],\n",
       "       [3.20111986],\n",
       "       [3.13545711],\n",
       "       [3.20111986],\n",
       "       [3.17485476],\n",
       "       [3.20111986],\n",
       "       [3.04352925],\n",
       "       [3.20111986],\n",
       "       [3.20111986],\n",
       "       [3.20111986],\n",
       "       [3.20111986],\n",
       "       [3.06979435],\n",
       "       [3.06979435],\n",
       "       [3.17485476],\n",
       "       [3.0041316 ],\n",
       "       [3.20111986],\n",
       "       [3.29304772],\n",
       "       [3.22738497],\n",
       "       [3.33244537],\n",
       "       [3.20111986],\n",
       "       [3.22738497],\n",
       "       [3.20111986],\n",
       "       [3.09605946],\n",
       "       [2.9778665 ],\n",
       "       [3.09605946],\n",
       "       [3.20111986],\n",
       "       [2.96473395],\n",
       "       [3.20111986],\n",
       "       [3.20111986],\n",
       "       [3.14858966],\n",
       "       [2.95160139],\n",
       "       [3.20111986],\n",
       "       [3.20111986],\n",
       "       [3.17485476],\n",
       "       [3.17485476],\n",
       "       [3.20111986],\n",
       "       [2.96473395],\n",
       "       [3.17485476],\n",
       "       [3.26678262],\n",
       "       [3.10919201],\n",
       "       [3.20111986],\n",
       "       [3.17485476],\n",
       "       [3.20111986],\n",
       "       [3.20111986],\n",
       "       [3.27991517],\n",
       "       [3.20111986],\n",
       "       [3.20111986],\n",
       "       [3.20111986],\n",
       "       [3.20111986],\n",
       "       [3.20111986],\n",
       "       [3.20111986],\n",
       "       [3.13545711],\n",
       "       [3.33244537],\n",
       "       [3.20111986],\n",
       "       [3.20111986],\n",
       "       [3.16172221],\n",
       "       [3.20111986],\n",
       "       [3.20111986],\n",
       "       [3.22738497],\n",
       "       [2.93846884],\n",
       "       [3.13545711],\n",
       "       [3.20111986],\n",
       "       [3.22738497],\n",
       "       [3.20111986],\n",
       "       [3.20111986],\n",
       "       [3.39810813],\n",
       "       [3.20111986],\n",
       "       [3.06979435],\n",
       "       [3.20111986],\n",
       "       [3.20111986],\n",
       "       [3.06979435],\n",
       "       [3.20111986],\n",
       "       [3.20111986],\n",
       "       [3.33244537],\n",
       "       [2.96473395],\n",
       "       [3.20111986],\n",
       "       [3.13545711],\n",
       "       [3.17485476],\n",
       "       [3.06979435],\n",
       "       [3.14858966],\n",
       "       [3.20111986],\n",
       "       [3.18798731],\n",
       "       [2.93846884],\n",
       "       [3.0041316 ],\n",
       "       [3.20111986],\n",
       "       [3.20111986],\n",
       "       [3.20111986],\n",
       "       [3.20111986],\n",
       "       [3.20111986],\n",
       "       [3.20111986],\n",
       "       [3.24051752],\n",
       "       [3.0041316 ],\n",
       "       [3.20111986],\n",
       "       [3.33244537],\n",
       "       [3.20111986],\n",
       "       [3.20111986],\n",
       "       [3.17485476],\n",
       "       [3.29304772],\n",
       "       [3.17485476],\n",
       "       [3.17485476],\n",
       "       [3.26678262],\n",
       "       [3.20111986],\n",
       "       [3.10919201],\n",
       "       [3.14858966],\n",
       "       [3.20111986],\n",
       "       [3.35871048],\n",
       "       [3.13545711],\n",
       "       [3.30618027],\n",
       "       [3.13545711],\n",
       "       [3.18798731],\n",
       "       [3.09605946],\n",
       "       [3.20111986],\n",
       "       [3.13545711],\n",
       "       [3.31931282],\n",
       "       [3.13545711],\n",
       "       [3.20111986],\n",
       "       [3.04352925],\n",
       "       [3.20111986],\n",
       "       [3.20111986],\n",
       "       [3.17485476],\n",
       "       [3.20111986],\n",
       "       [3.26678262],\n",
       "       [3.20111986],\n",
       "       [3.20111986],\n",
       "       [3.10919201],\n",
       "       [3.26678262],\n",
       "       [3.13545711],\n",
       "       [3.13545711],\n",
       "       [3.06979435],\n",
       "       [2.93846884],\n",
       "       [3.14858966],\n",
       "       [3.13545711],\n",
       "       [3.20111986],\n",
       "       [3.14858966],\n",
       "       [3.20111986],\n",
       "       [3.26678262],\n",
       "       [3.13545711],\n",
       "       [3.13545711],\n",
       "       [3.13545711],\n",
       "       [3.20111986],\n",
       "       [3.0041316 ],\n",
       "       [3.13545711],\n",
       "       [3.24051752],\n",
       "       [3.06979435],\n",
       "       [3.12232456],\n",
       "       [3.20111986],\n",
       "       [3.04352925],\n",
       "       [3.12232456],\n",
       "       [3.20111986],\n",
       "       [3.13545711]])"
      ]
     },
     "execution_count": 26,
     "metadata": {},
     "output_type": "execute_result"
    }
   ],
   "source": [
    "y_predicted"
   ]
  },
  {
   "cell_type": "code",
   "execution_count": 27,
   "id": "9785ed2e",
   "metadata": {},
   "outputs": [
    {
     "data": {
      "text/html": [
       "<div>\n",
       "<style scoped>\n",
       "    .dataframe tbody tr th:only-of-type {\n",
       "        vertical-align: middle;\n",
       "    }\n",
       "\n",
       "    .dataframe tbody tr th {\n",
       "        vertical-align: top;\n",
       "    }\n",
       "\n",
       "    .dataframe thead th {\n",
       "        text-align: right;\n",
       "    }\n",
       "</style>\n",
       "<table border=\"1\" class=\"dataframe\">\n",
       "  <thead>\n",
       "    <tr style=\"text-align: right;\">\n",
       "      <th></th>\n",
       "      <th>Actual</th>\n",
       "      <th>Predicted</th>\n",
       "    </tr>\n",
       "  </thead>\n",
       "  <tbody>\n",
       "    <tr>\n",
       "      <th>0</th>\n",
       "      <td>2.50</td>\n",
       "      <td>3.135457</td>\n",
       "    </tr>\n",
       "    <tr>\n",
       "      <th>1</th>\n",
       "      <td>2.75</td>\n",
       "      <td>3.174855</td>\n",
       "    </tr>\n",
       "    <tr>\n",
       "      <th>2</th>\n",
       "      <td>2.50</td>\n",
       "      <td>3.201120</td>\n",
       "    </tr>\n",
       "    <tr>\n",
       "      <th>3</th>\n",
       "      <td>3.25</td>\n",
       "      <td>3.201120</td>\n",
       "    </tr>\n",
       "    <tr>\n",
       "      <th>4</th>\n",
       "      <td>3.25</td>\n",
       "      <td>3.069794</td>\n",
       "    </tr>\n",
       "    <tr>\n",
       "      <th>5</th>\n",
       "      <td>2.75</td>\n",
       "      <td>3.398108</td>\n",
       "    </tr>\n",
       "    <tr>\n",
       "      <th>6</th>\n",
       "      <td>3.50</td>\n",
       "      <td>3.201120</td>\n",
       "    </tr>\n",
       "    <tr>\n",
       "      <th>7</th>\n",
       "      <td>2.50</td>\n",
       "      <td>3.135457</td>\n",
       "    </tr>\n",
       "    <tr>\n",
       "      <th>8</th>\n",
       "      <td>3.50</td>\n",
       "      <td>3.253650</td>\n",
       "    </tr>\n",
       "    <tr>\n",
       "      <th>9</th>\n",
       "      <td>3.50</td>\n",
       "      <td>3.266783</td>\n",
       "    </tr>\n",
       "    <tr>\n",
       "      <th>10</th>\n",
       "      <td>2.75</td>\n",
       "      <td>3.279915</td>\n",
       "    </tr>\n",
       "    <tr>\n",
       "      <th>11</th>\n",
       "      <td>3.50</td>\n",
       "      <td>3.201120</td>\n",
       "    </tr>\n",
       "    <tr>\n",
       "      <th>12</th>\n",
       "      <td>3.00</td>\n",
       "      <td>3.266783</td>\n",
       "    </tr>\n",
       "    <tr>\n",
       "      <th>13</th>\n",
       "      <td>3.50</td>\n",
       "      <td>3.201120</td>\n",
       "    </tr>\n",
       "    <tr>\n",
       "      <th>14</th>\n",
       "      <td>3.25</td>\n",
       "      <td>3.135457</td>\n",
       "    </tr>\n",
       "    <tr>\n",
       "      <th>15</th>\n",
       "      <td>2.75</td>\n",
       "      <td>3.069794</td>\n",
       "    </tr>\n",
       "    <tr>\n",
       "      <th>16</th>\n",
       "      <td>1.50</td>\n",
       "      <td>3.004132</td>\n",
       "    </tr>\n",
       "    <tr>\n",
       "      <th>17</th>\n",
       "      <td>3.00</td>\n",
       "      <td>3.174855</td>\n",
       "    </tr>\n",
       "    <tr>\n",
       "      <th>18</th>\n",
       "      <td>2.75</td>\n",
       "      <td>3.201120</td>\n",
       "    </tr>\n",
       "    <tr>\n",
       "      <th>19</th>\n",
       "      <td>3.75</td>\n",
       "      <td>3.201120</td>\n",
       "    </tr>\n",
       "    <tr>\n",
       "      <th>20</th>\n",
       "      <td>3.00</td>\n",
       "      <td>3.201120</td>\n",
       "    </tr>\n",
       "    <tr>\n",
       "      <th>21</th>\n",
       "      <td>3.50</td>\n",
       "      <td>3.161722</td>\n",
       "    </tr>\n",
       "    <tr>\n",
       "      <th>22</th>\n",
       "      <td>2.75</td>\n",
       "      <td>3.398108</td>\n",
       "    </tr>\n",
       "    <tr>\n",
       "      <th>23</th>\n",
       "      <td>3.00</td>\n",
       "      <td>2.807143</td>\n",
       "    </tr>\n",
       "    <tr>\n",
       "      <th>24</th>\n",
       "      <td>3.00</td>\n",
       "      <td>3.332445</td>\n",
       "    </tr>\n",
       "    <tr>\n",
       "      <th>25</th>\n",
       "      <td>3.00</td>\n",
       "      <td>3.135457</td>\n",
       "    </tr>\n",
       "    <tr>\n",
       "      <th>26</th>\n",
       "      <td>3.00</td>\n",
       "      <td>3.135457</td>\n",
       "    </tr>\n",
       "    <tr>\n",
       "      <th>27</th>\n",
       "      <td>3.50</td>\n",
       "      <td>3.227385</td>\n",
       "    </tr>\n",
       "    <tr>\n",
       "      <th>28</th>\n",
       "      <td>3.00</td>\n",
       "      <td>3.201120</td>\n",
       "    </tr>\n",
       "    <tr>\n",
       "      <th>29</th>\n",
       "      <td>3.75</td>\n",
       "      <td>3.227385</td>\n",
       "    </tr>\n",
       "  </tbody>\n",
       "</table>\n",
       "</div>"
      ],
      "text/plain": [
       "    Actual  Predicted\n",
       "0     2.50   3.135457\n",
       "1     2.75   3.174855\n",
       "2     2.50   3.201120\n",
       "3     3.25   3.201120\n",
       "4     3.25   3.069794\n",
       "5     2.75   3.398108\n",
       "6     3.50   3.201120\n",
       "7     2.50   3.135457\n",
       "8     3.50   3.253650\n",
       "9     3.50   3.266783\n",
       "10    2.75   3.279915\n",
       "11    3.50   3.201120\n",
       "12    3.00   3.266783\n",
       "13    3.50   3.201120\n",
       "14    3.25   3.135457\n",
       "15    2.75   3.069794\n",
       "16    1.50   3.004132\n",
       "17    3.00   3.174855\n",
       "18    2.75   3.201120\n",
       "19    3.75   3.201120\n",
       "20    3.00   3.201120\n",
       "21    3.50   3.161722\n",
       "22    2.75   3.398108\n",
       "23    3.00   2.807143\n",
       "24    3.00   3.332445\n",
       "25    3.00   3.135457\n",
       "26    3.00   3.135457\n",
       "27    3.50   3.227385\n",
       "28    3.00   3.201120\n",
       "29    3.75   3.227385"
      ]
     },
     "execution_count": 27,
     "metadata": {},
     "output_type": "execute_result"
    }
   ],
   "source": [
    "\n",
    "data = pd.DataFrame({'Actual': y_test.flatten(), 'Predicted': y_predicted.flatten()})\n",
    "data.head(30)"
   ]
  },
  {
   "cell_type": "markdown",
   "id": "da28ae4c",
   "metadata": {},
   "source": [
    "### Comparing how the regression fits the training set"
   ]
  },
  {
   "cell_type": "code",
   "execution_count": 28,
   "id": "b83ddac4",
   "metadata": {},
   "outputs": [],
   "source": [
    "# Predict.\n",
    "\n",
    "y_predicted_train = regression.predict(X_train) # This is predicting X_train!"
   ]
  },
  {
   "cell_type": "code",
   "execution_count": 29,
   "id": "1efb856d",
   "metadata": {},
   "outputs": [],
   "source": [
    "rmse = mean_squared_error(y_train, y_predicted_train)\n",
    "r2 = r2_score(y_train, y_predicted_train)"
   ]
  },
  {
   "cell_type": "code",
   "execution_count": 30,
   "id": "095f3fc3",
   "metadata": {},
   "outputs": [
    {
     "name": "stdout",
     "output_type": "stream",
     "text": [
      "Slope: [[-0.01313255]]\n",
      "Mean squared error:  0.22774918296663346\n",
      "R2 score:  0.029784249226460058\n"
     ]
    }
   ],
   "source": [
    "print('Slope:' ,regression.coef_)\n",
    "print('Mean squared error: ', rmse)\n",
    "print('R2 score: ', r2)"
   ]
  },
  {
   "cell_type": "markdown",
   "id": "bd2f9843",
   "metadata": {},
   "source": [
    "### Slope is the same as test set. Mean square is increased by 0.02 and R2 score shows approximately 2.98% of the variance in ratings according to this model compared to 1.81% in the test set. Though these scores are bigger but still indicate a poor model."
   ]
  },
  {
   "cell_type": "code",
   "execution_count": 31,
   "id": "d7a3976b",
   "metadata": {},
   "outputs": [
    {
     "data": {
      "image/png": "[encoded data removed]",
      "text/plain": [
       "<Figure size 640x480 with 1 Axes>"
      ]
     },
     "metadata": {},
     "output_type": "display_data"
    }
   ],
   "source": [
    "# Visualizing the training set results.\n",
    "\n",
    "plot_test = plt\n",
    "plot_test.scatter(X_train, y_train, color='green', s = 15)\n",
    "plot_test.plot(X_train, y_predicted_train, color='red', linewidth =3)\n",
    "plot_test.title('Cocoa_percent vs Rating  (Train set)')\n",
    "plot_test.xlabel('Cocoa_percent')\n",
    "plot_test.ylabel('Rating')\n",
    "plot_test.show()"
   ]
  },
  {
   "cell_type": "markdown",
   "id": "e19822f1",
   "metadata": {},
   "source": [
    "  ### The low R square score, MSE scoreof 0.2095 in the test set is lower than that of the training set, it's still relatively high. This indicates that the model's predictions deviate significantly from the actual ratings on average, suggesting a lack of accuracy.\n",
    "  ### y-Predicted values differ significantly from the actual values.\n",
    "  ### These evidences support the fact that this prediction model is not a good fit."
   ]
  }
 ],
 "metadata": {
  "kernelspec": {
   "display_name": "Python 3 (ipykernel)",
   "language": "python",
   "name": "python3"
  },
  "language_info": {
   "codemirror_mode": {
    "name": "ipython",
    "version": 3
   },
   "file_extension": ".py",
   "mimetype": "text/x-python",
   "name": "python",
   "nbconvert_exporter": "python",
   "pygments_lexer": "ipython3",
   "version": "3.11.5"
  }
 },
 "nbformat": 4,
 "nbformat_minor": 5
}
